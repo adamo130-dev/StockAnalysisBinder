import pandas as pd
import yfinance as yf
import pandas_ta as ta
from stock_indicators import indicators

# Define stock tickers
tickers = ["CVI", "PGY", "TSL", "BE", "INGN", "WOLF", "PTON", "AIRS", "INDI", "ANRO", 
           "DCGO", "ACHR", "NXL", "AMTX", "LIPO", "NOTV", "IHRT", "NRGV", "AMPX", "ZVIA", 
           "NINE", "ELEV", "MNTS", "GOEV", "FOXO", "OGEN", "RIME", "MVST", "XTIA"]

# Initialize a list to store analysis results
analysis_results = []

def analyze_stock(data, ticker):
    # Ensure sufficient data
    if len(data) < 30:
        return None

    # Calculate RSI using stock-indicators
    rsi_values = indicators.get_rsi(data['Close'].tolist(), 14)
    data['RSI'] = [x.rsi for x in rsi_values]

    # Calculate MACD using stock-indicators
    macd_values = indicators.get_macd(data['Close'].tolist(), 12, 26, 9)
    data['MACD'] = [x.macd for x in macd_values]
    data['Signal'] = [x.signal for x in macd_values]

    # Add candlestick patterns using pandas_ta
    data['Hammer'] = ta.cdl_pattern(data, 'hammer')
    data['Engulfing'] = ta.cdl_pattern(data, 'engulfing')
    data['Doji'] = ta.cdl_pattern(data, 'doji')
    
    # Check for potential buy signals: RSI < 30, MACD crossover, and a bullish candlestick pattern
    recent = data.iloc[-1]
    if recent['RSI'] < 30 and recent['MACD'] > recent['Signal'] and (recent['Hammer'] or recent['Engulfing'] or recent['Doji']):
        return {'Ticker': ticker, 'RSI': recent['RSI'], 'MACD': recent['MACD'], 'Signal': recent['Signal']}

# Analyze each stock
for ticker in tickers:
    data = yf.download(ticker, period="1y", interval="1d")
    result = analyze_stock(data, ticker)
    if result:
        analysis_results.append(result)

# Sort results to find top 5 candidates
top_5 = sorted(analysis_results, key=lambda x: x['RSI'])[:5]
print(pd.DataFrame(top_5))